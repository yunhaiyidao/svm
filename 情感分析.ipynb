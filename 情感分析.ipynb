{
 "cells": [
  {
   "cell_type": "markdown",
   "metadata": {},
   "source": [
    "# <span style=\"text-align：center;margin-left:30%\"> 情感分类<span>"
   ]
  },
  {
   "cell_type": "markdown",
   "metadata": {},
   "source": [
    "<h2>导入分类需要的包</h2>"
   ]
  },
  {
   "cell_type": "code",
   "execution_count": 234,
   "metadata": {},
   "outputs": [],
   "source": [
    "import pandas as pd\n",
    "import numpy as np\n",
    "from sklearn.feature_extraction.text import CountVectorizer,TfidfTransformer\n",
    "import jieba\n",
    "from sklearn.model_selection import train_test_split\n",
    "from sklearn.naive_bayes import MultinomialNB\n",
    "from sklearn.model_selection import cross_val_score\n",
    "import matplotlib.pyplot as plt\n",
    "from sklearn import svm\n",
    "from sklearn.linear_model import LogisticRegression\n",
    "from sklearn.model_selection import cross_val_predict\n",
    "from sklearn.metrics import accuracy_score,confusion_matrix,precision_recall_curve,average_precision_score\n",
    "from sklearn import metrics\n",
    "from sklearn.metrics import roc_curve, auc\n",
    "from sklearn.externals import joblib\n",
    "from sklearn.model_selection import GridSearchCV"
   ]
  },
  {
   "cell_type": "markdown",
   "metadata": {},
   "source": [
    "<h3>加载停词</h3>"
   ]
  },
  {
   "cell_type": "code",
   "execution_count": 169,
   "metadata": {},
   "outputs": [],
   "source": [
    "file = open(\"停用词.txt\",encoding='utf8') \n",
    "stopword = [line.lstrip().rstrip() for line in file.readlines()]"
   ]
  },
  {
   "cell_type": "markdown",
   "metadata": {},
   "source": [
    "<h3>读取训练数据</h3>"
   ]
  },
  {
   "cell_type": "code",
   "execution_count": 30,
   "metadata": {},
   "outputs": [],
   "source": [
    "df = pd.read_excel('标注数据1万条.xlsx')"
   ]
  },
  {
   "cell_type": "code",
   "execution_count": 31,
   "metadata": {},
   "outputs": [
    {
     "data": {
      "text/html": [
       "<div>\n",
       "<style scoped>\n",
       "    .dataframe tbody tr th:only-of-type {\n",
       "        vertical-align: middle;\n",
       "    }\n",
       "\n",
       "    .dataframe tbody tr th {\n",
       "        vertical-align: top;\n",
       "    }\n",
       "\n",
       "    .dataframe thead th {\n",
       "        text-align: right;\n",
       "    }\n",
       "</style>\n",
       "<table border=\"1\" class=\"dataframe\">\n",
       "  <thead>\n",
       "    <tr style=\"text-align: right;\">\n",
       "      <th></th>\n",
       "      <th>手机编号</th>\n",
       "      <th>评论得分</th>\n",
       "      <th>评论内容</th>\n",
       "      <th>文本长度</th>\n",
       "      <th>标注结果</th>\n",
       "    </tr>\n",
       "  </thead>\n",
       "  <tbody>\n",
       "    <tr>\n",
       "      <th>0</th>\n",
       "      <td>2876449</td>\n",
       "      <td>1</td>\n",
       "      <td>手机的logo不好看，触屏不灵敏，流畅度还好，总体一般吧</td>\n",
       "      <td>28</td>\n",
       "      <td>0</td>\n",
       "    </tr>\n",
       "    <tr>\n",
       "      <th>1</th>\n",
       "      <td>2876449</td>\n",
       "      <td>1</td>\n",
       "      <td>在信号满格的情况下，能听到对方说话，对方听不到我说话，这样的也情况出现好多次了，已过7天，认...</td>\n",
       "      <td>50</td>\n",
       "      <td>0</td>\n",
       "    </tr>\n",
       "    <tr>\n",
       "      <th>2</th>\n",
       "      <td>2876449</td>\n",
       "      <td>1</td>\n",
       "      <td>电池耗电好快。。。而且刚买的手机还会卡，进软件还会闪退是什么鬼。。。</td>\n",
       "      <td>34</td>\n",
       "      <td>0</td>\n",
       "    </tr>\n",
       "    <tr>\n",
       "      <th>3</th>\n",
       "      <td>2876449</td>\n",
       "      <td>1</td>\n",
       "      <td>用了有半个月手机扬声器坏了去售后又换一个扬声器结果两天又坏了玩个回合游戏呢穿羽绒服的天气手机...</td>\n",
       "      <td>59</td>\n",
       "      <td>0</td>\n",
       "    </tr>\n",
       "    <tr>\n",
       "      <th>4</th>\n",
       "      <td>2876449</td>\n",
       "      <td>1</td>\n",
       "      <td>垃圾，从来没有买过这么垃圾的手机，一直在重启，根本用不了，我要投诉。</td>\n",
       "      <td>34</td>\n",
       "      <td>0</td>\n",
       "    </tr>\n",
       "  </tbody>\n",
       "</table>\n",
       "</div>"
      ],
      "text/plain": [
       "      手机编号  评论得分                                               评论内容  文本长度  \\\n",
       "0  2876449     1                       手机的logo不好看，触屏不灵敏，流畅度还好，总体一般吧    28   \n",
       "1  2876449     1  在信号满格的情况下，能听到对方说话，对方听不到我说话，这样的也情况出现好多次了，已过7天，认...    50   \n",
       "2  2876449     1                 电池耗电好快。。。而且刚买的手机还会卡，进软件还会闪退是什么鬼。。。    34   \n",
       "3  2876449     1  用了有半个月手机扬声器坏了去售后又换一个扬声器结果两天又坏了玩个回合游戏呢穿羽绒服的天气手机...    59   \n",
       "4  2876449     1                 垃圾，从来没有买过这么垃圾的手机，一直在重启，根本用不了，我要投诉。    34   \n",
       "\n",
       "   标注结果  \n",
       "0     0  \n",
       "1     0  \n",
       "2     0  \n",
       "3     0  \n",
       "4     0  "
      ]
     },
     "execution_count": 31,
     "metadata": {},
     "output_type": "execute_result"
    }
   ],
   "source": [
    "#<h3>读取训练数据</h3>\n",
    "df.head()"
   ]
  },
  {
   "cell_type": "code",
   "execution_count": 37,
   "metadata": {},
   "outputs": [
    {
     "data": {
      "text/plain": [
       "array([0, 0, 0, ..., 1, 1, 1], dtype=int64)"
      ]
     },
     "execution_count": 37,
     "metadata": {},
     "output_type": "execute_result"
    }
   ],
   "source": [
    "# y 数据\n",
    "y = df.标注结果.values\n",
    "y"
   ]
  },
  {
   "cell_type": "code",
   "execution_count": 211,
   "metadata": {},
   "outputs": [
    {
     "data": {
      "text/plain": [
       "{0, 1}"
      ]
     },
     "execution_count": 211,
     "metadata": {},
     "output_type": "execute_result"
    }
   ],
   "source": [
    "set(y) #0，1分布的数据集"
   ]
  },
  {
   "cell_type": "code",
   "execution_count": 41,
   "metadata": {},
   "outputs": [],
   "source": [
    "x_sorce = df.评论内容.astype(str).values"
   ]
  },
  {
   "cell_type": "code",
   "execution_count": 45,
   "metadata": {},
   "outputs": [],
   "source": [
    "contentlist = []\n",
    "for j in x_sorce:\n",
    "    content = ' '.join([word for word in jieba.cut(j) if word not in stopword])\n",
    "    contentlist.append(content)"
   ]
  },
  {
   "cell_type": "code",
   "execution_count": 47,
   "metadata": {},
   "outputs": [],
   "source": [
    "#词袋模型\n",
    "counter = CountVectorizer()\n",
    "counts = counter.fit_transform(contentlist)"
   ]
  },
  {
   "cell_type": "code",
   "execution_count": 138,
   "metadata": {},
   "outputs": [],
   "source": [
    "#转为TFidf\n",
    "tfidfer = TfidfTransformer()\n",
    "#转为稀疏矩阵\n",
    "x = tfidfer.fit_transform(counts)"
   ]
  },
  {
   "cell_type": "code",
   "execution_count": 200,
   "metadata": {},
   "outputs": [
    {
     "data": {
      "text/plain": [
       "['tf_model.m']"
      ]
     },
     "execution_count": 200,
     "metadata": {},
     "output_type": "execute_result"
    }
   ],
   "source": [
    "#保存词处理模型模型\n",
    "joblib.dump(counter,'co_model.m')\n",
    "joblib.dump(tfidfer,'tf_model.m')"
   ]
  },
  {
   "cell_type": "code",
   "execution_count": 139,
   "metadata": {},
   "outputs": [],
   "source": [
    "#分为训练与测试样本\n",
    "X_train, X_test, y_train, y_test =train_test_split(x,y)"
   ]
  },
  {
   "cell_type": "code",
   "execution_count": 226,
   "metadata": {},
   "outputs": [
    {
     "data": {
      "text/plain": [
       "3476"
      ]
     },
     "execution_count": 226,
     "metadata": {},
     "output_type": "execute_result"
    }
   ],
   "source": [
    "#查看样本分布情况\n",
    "(np.array(y_train)==1).sum()"
   ]
  },
  {
   "cell_type": "markdown",
   "metadata": {},
   "source": [
    "# 贝叶斯建模 指标"
   ]
  },
  {
   "cell_type": "code",
   "execution_count": 148,
   "metadata": {},
   "outputs": [
    {
     "data": {
      "text/plain": [
       "MultinomialNB(alpha=0.0001, class_prior=None, fit_prior=True)"
      ]
     },
     "execution_count": 148,
     "metadata": {},
     "output_type": "execute_result"
    }
   ],
   "source": [
    "#朴素贝叶斯建模预测\n",
    "bayes_clf = MultinomialNB(alpha=0.0001)\n",
    "bayes_clf.fit(X_train,y_train)"
   ]
  },
  {
   "cell_type": "code",
   "execution_count": 179,
   "metadata": {},
   "outputs": [
    {
     "data": {
      "text/plain": [
       "0.9548030407740152"
      ]
     },
     "execution_count": 179,
     "metadata": {},
     "output_type": "execute_result"
    }
   ],
   "source": [
    "#训练集分数\n",
    "bayes_clf.score(X_train,y_train)"
   ]
  },
  {
   "cell_type": "code",
   "execution_count": 180,
   "metadata": {},
   "outputs": [
    {
     "data": {
      "text/plain": [
       "0.8540630182421227"
      ]
     },
     "execution_count": 180,
     "metadata": {},
     "output_type": "execute_result"
    }
   ],
   "source": [
    "#测试集得分\n",
    "bayes_clf.score(X_test,y_test)"
   ]
  },
  {
   "cell_type": "code",
   "execution_count": 151,
   "metadata": {
    "scrolled": true
   },
   "outputs": [
    {
     "data": {
      "image/png": "[encoded data removed]",
      "text/plain": [
       "<Figure size 432x288 with 1 Axes>"
      ]
     },
     "metadata": {
      "needs_background": "light"
     },
     "output_type": "display_data"
    }
   ],
   "source": [
    "#100次交叉验证\n",
    "nul = 100\n",
    "scores = cross_val_score(bayes_clf, x, y, cv=nul)\n",
    "plt.plot(range(nul), scores)\n",
    "plt.show()"
   ]
  },
  {
   "cell_type": "code",
   "execution_count": 192,
   "metadata": {},
   "outputs": [
    {
     "data": {
      "text/plain": [
       "0.8540630182421227"
      ]
     },
     "execution_count": 192,
     "metadata": {},
     "output_type": "execute_result"
    }
   ],
   "source": [
    "bayes_pred = bayes_clf.predict(X_test)\n",
    "# 测试集精确度\n",
    "accuracy_score(y_test, bayes_pred)"
   ]
  },
  {
   "cell_type": "code",
   "execution_count": 193,
   "metadata": {},
   "outputs": [
    {
     "data": {
      "text/plain": [
       "array([[1026,  166],\n",
       "       [ 186, 1034]], dtype=int64)"
      ]
     },
     "execution_count": 193,
     "metadata": {},
     "output_type": "execute_result"
    }
   ],
   "source": [
    "#混淆矩阵\n",
    "confusion_matrix(y_test, bayes_pred, labels=None, sample_weight=None)"
   ]
  },
  {
   "cell_type": "code",
   "execution_count": 194,
   "metadata": {},
   "outputs": [],
   "source": [
    "#fpr,\n",
    "fpr, tpr, thresholds = metrics.roc_curve(y_test, bayes_pred, pos_label=1)\n",
    "precision, recall, threshold = precision_recall_curve(y_test, bayes_pred)#精确度，召回率，阈值"
   ]
  },
  {
   "cell_type": "code",
   "execution_count": 414,
   "metadata": {},
   "outputs": [
    {
     "data": {
      "text/plain": [
       "array([0.50580431, 0.86166667, 1.        ])"
      ]
     },
     "execution_count": 414,
     "metadata": {},
     "output_type": "execute_result"
    }
   ],
   "source": [
    "precision"
   ]
  },
  {
   "cell_type": "code",
   "execution_count": 430,
   "metadata": {},
   "outputs": [
    {
     "data": {
      "image/png": "[encoded data removed]",
      "text/plain": [
       "<Figure size 432x288 with 1 Axes>"
      ]
     },
     "metadata": {
      "needs_background": "light"
     },
     "output_type": "display_data"
    }
   ],
   "source": [
    "plt.figure()\n",
    "lw = 2\n",
    "plt.plot(fpr, tpr, color='darkorange',lw=lw, label='ROC curve (area = %0.2f)' % accuracy_score(y_test, bayes_pred))\n",
    "plt.plot([0, 1], [0, 1], color='navy', lw=lw, linestyle='--')\n",
    "plt.xlim([0.0, 1.0])\n",
    "plt.ylim([0.0, 1.05])\n",
    "plt.xlabel('False Positive Rate')\n",
    "plt.ylabel('True Positive Rate')\n",
    "plt.title('bayes  Receiver operating characteristic')\n",
    "plt.legend(loc=\"lower right\")\n",
    "plt.show()"
   ]
  },
  {
   "cell_type": "code",
   "execution_count": 197,
   "metadata": {},
   "outputs": [
    {
     "data": {
      "text/plain": [
       "0.8545454545454545"
      ]
     },
     "execution_count": 197,
     "metadata": {},
     "output_type": "execute_result"
    }
   ],
   "source": [
    "#f1score\n",
    "metrics.f1_score(y_test, bayes_pred)#发 score"
   ]
  },
  {
   "cell_type": "code",
   "execution_count": 418,
   "metadata": {},
   "outputs": [
    {
     "data": {
      "text/plain": [
       "0.8616666666666667"
      ]
     },
     "execution_count": 418,
     "metadata": {},
     "output_type": "execute_result"
    }
   ],
   "source": [
    "#precision_scor\n",
    "metrics.precision_score(y_test, bayes_pred)"
   ]
  },
  {
   "cell_type": "code",
   "execution_count": 420,
   "metadata": {},
   "outputs": [
    {
     "data": {
      "text/plain": [
       "0.8475409836065574"
      ]
     },
     "execution_count": 420,
     "metadata": {},
     "output_type": "execute_result"
    }
   ],
   "source": [
    "metrics.recall_score(y_test, bayes_pred)"
   ]
  },
  {
   "cell_type": "code",
   "execution_count": 198,
   "metadata": {},
   "outputs": [
    {
     "data": {
      "text/plain": [
       "0.8931610390669604"
      ]
     },
     "execution_count": 198,
     "metadata": {},
     "output_type": "execute_result"
    }
   ],
   "source": [
    "metrics.auc(recall, precision)# auc面积 "
   ]
  },
  {
   "cell_type": "markdown",
   "metadata": {},
   "source": [
    "# SVM建模 指标"
   ]
  },
  {
   "cell_type": "code",
   "execution_count": 408,
   "metadata": {},
   "outputs": [],
   "source": [
    "#核函数'linear','poly','rbf'\n",
    "kernel = 'rbf'\n",
    "svm_clf = svm.SVC(kernel =kernel, gamma=2,probability=True)"
   ]
  },
  {
   "cell_type": "code",
   "execution_count": 409,
   "metadata": {},
   "outputs": [
    {
     "data": {
      "text/plain": [
       "SVC(C=1.0, cache_size=200, class_weight=None, coef0=0.0,\n",
       "    decision_function_shape='ovr', degree=3, gamma=2, kernel='rbf', max_iter=-1,\n",
       "    probability=True, random_state=None, shrinking=True, tol=0.001,\n",
       "    verbose=False)"
      ]
     },
     "execution_count": 409,
     "metadata": {},
     "output_type": "execute_result"
    }
   ],
   "source": [
    "svm_clf.fit(X_train,y_train)"
   ]
  },
  {
   "cell_type": "code",
   "execution_count": 399,
   "metadata": {},
   "outputs": [
    {
     "data": {
      "text/plain": [
       "0.8731343283582089"
      ]
     },
     "execution_count": 399,
     "metadata": {},
     "output_type": "execute_result"
    }
   ],
   "source": [
    "#svm 测试集得分\n",
    "\n",
    "svm_clf.score(X_test,y_test)"
   ]
  },
  {
   "cell_type": "code",
   "execution_count": 461,
   "metadata": {},
   "outputs": [
    {
     "data": {
      "image/png": "[encoded data removed]",
      "text/plain": [
       "<Figure size 432x288 with 1 Axes>"
      ]
     },
     "metadata": {
      "needs_background": "light"
     },
     "output_type": "display_data"
    }
   ],
   "source": [
    "#20次交叉验证\n",
    "nul = 50\n",
    "scores = cross_val_score(svm_clf, x, y, cv=nul)\n",
    "plt.plot(range(nul), scores)\n",
    "plt.show()"
   ]
  },
  {
   "cell_type": "code",
   "execution_count": 424,
   "metadata": {},
   "outputs": [
    {
     "data": {
      "text/plain": [
       "0.8731343283582089"
      ]
     },
     "execution_count": 424,
     "metadata": {},
     "output_type": "execute_result"
    }
   ],
   "source": [
    "svm_pred = svm_clf.predict(X_test)\n",
    "# 测试集精确度\n",
    "accuracy_score(y_test, svm_pred)"
   ]
  },
  {
   "cell_type": "code",
   "execution_count": 442,
   "metadata": {},
   "outputs": [],
   "source": [
    "#fpr,\n",
    "fpr, tpr, thresholds = metrics.roc_curve(y_test, svm_pred, pos_label=1)\n",
    "precision, recall, threshold = precision_recall_curve(y_test, svm_pred)#精确度，召回率，阈值"
   ]
  },
  {
   "cell_type": "code",
   "execution_count": 443,
   "metadata": {
    "scrolled": true
   },
   "outputs": [
    {
     "data": {
      "image/png": "[encoded data removed]",
      "text/plain": [
       "<Figure size 432x288 with 1 Axes>"
      ]
     },
     "metadata": {
      "needs_background": "light"
     },
     "output_type": "display_data"
    }
   ],
   "source": [
    "plt.figure()\n",
    "lw = 2\n",
    "plt.plot(fpr, tpr, color='darkorange',lw=lw, label='ROC curve (area = %0.2f)' % accuracy_score(y_test, svm_pred))\n",
    "plt.plot([0, 1], [0, 1], color='navy', lw=lw, linestyle='-.')\n",
    "plt.xlim([0.0, 1.0])\n",
    "plt.ylim([0.0, 1.05])\n",
    "plt.xlabel('False Positive Rate')\n",
    "plt.ylabel('True Positive Rate')\n",
    "plt.title('Svm Receiver operating characteristic')\n",
    "plt.legend(loc=\"lower right\")\n",
    "plt.show()"
   ]
  },
  {
   "cell_type": "code",
   "execution_count": 444,
   "metadata": {},
   "outputs": [
    {
     "data": {
      "text/plain": [
       "0.8693424423569598"
      ]
     },
     "execution_count": 444,
     "metadata": {},
     "output_type": "execute_result"
    }
   ],
   "source": [
    "#f1score\n",
    "metrics.f1_score(y_test, svm_pred)#发 score"
   ]
  },
  {
   "cell_type": "code",
   "execution_count": 445,
   "metadata": {},
   "outputs": [
    {
     "data": {
      "text/plain": [
       "0.8616666666666667"
      ]
     },
     "execution_count": 445,
     "metadata": {},
     "output_type": "execute_result"
    }
   ],
   "source": [
    "#precision_scor\n",
    "metrics.precision_score(y_test, bayes_pred)"
   ]
  },
  {
   "cell_type": "code",
   "execution_count": 446,
   "metadata": {},
   "outputs": [
    {
     "data": {
      "text/plain": [
       "0.8475409836065574"
      ]
     },
     "execution_count": 446,
     "metadata": {},
     "output_type": "execute_result"
    }
   ],
   "source": [
    "#recall_score\n",
    "metrics.recall_score(y_test, bayes_pred)"
   ]
  },
  {
   "cell_type": "code",
   "execution_count": 447,
   "metadata": {},
   "outputs": [
    {
     "data": {
      "text/plain": [
       "0.9127412672181595"
      ]
     },
     "execution_count": 447,
     "metadata": {},
     "output_type": "execute_result"
    }
   ],
   "source": [
    "#auc\n",
    "metrics.auc(recall, precision)# auc面积 "
   ]
  },
  {
   "cell_type": "markdown",
   "metadata": {},
   "source": [
    "# LR建模，逻辑回归建模，指标"
   ]
  },
  {
   "cell_type": "code",
   "execution_count": 388,
   "metadata": {},
   "outputs": [
    {
     "name": "stderr",
     "output_type": "stream",
     "text": [
      "e:\\py355\\lib\\site-packages\\sklearn\\linear_model\\logistic.py:432: FutureWarning: Default solver will be changed to 'lbfgs' in 0.22. Specify a solver to silence this warning.\n",
      "  FutureWarning)\n"
     ]
    },
    {
     "data": {
      "text/plain": [
       "0.8830845771144279"
      ]
     },
     "execution_count": 388,
     "metadata": {},
     "output_type": "execute_result"
    }
   ],
   "source": [
    "# 初始化LogisticRegression\n",
    "lr_clf = LogisticRegression()\n",
    "# 使用训练集对测试集进行训练\n",
    "lr_clf.fit(X_train,y_train)\n",
    "#lr 测试机分数\n",
    "lr_clf.score(X_test,y_test)"
   ]
  },
  {
   "cell_type": "code",
   "execution_count": 263,
   "metadata": {},
   "outputs": [],
   "source": [
    "#lr比较快，使用网格搜索，找一下参数\n",
    "param_grid={'penalty':['l1','l2']}\n",
    "param_grid={'solver':['newton-cg','lbfgs','liblinear','sag']}\n",
    "grid_search = GridSearchCV(lr_clf, param_grid, n_jobs = 4, verbose = 2)"
   ]
  },
  {
   "cell_type": "code",
   "execution_count": 264,
   "metadata": {
    "collapsed": true
   },
   "outputs": [
    {
     "name": "stderr",
     "output_type": "stream",
     "text": [
      "e:\\py355\\lib\\site-packages\\sklearn\\model_selection\\_split.py:1978: FutureWarning: The default value of cv will change from 3 to 5 in version 0.22. Specify it explicitly to silence this warning.\n",
      "  warnings.warn(CV_WARNING, FutureWarning)\n"
     ]
    },
    {
     "name": "stdout",
     "output_type": "stream",
     "text": [
      "Fitting 3 folds for each of 4 candidates, totalling 12 fits\n"
     ]
    },
    {
     "name": "stderr",
     "output_type": "stream",
     "text": [
      "[Parallel(n_jobs=4)]: Using backend LokyBackend with 4 concurrent workers.\n",
      "[Parallel(n_jobs=4)]: Done  12 out of  12 | elapsed:    5.0s remaining:    0.0s\n",
      "[Parallel(n_jobs=4)]: Done  12 out of  12 | elapsed:    5.0s finished\n"
     ]
    },
    {
     "data": {
      "text/plain": [
       "GridSearchCV(cv='warn', error_score='raise-deprecating',\n",
       "             estimator=LogisticRegression(C=1.0, class_weight=None, dual=False,\n",
       "                                          fit_intercept=True,\n",
       "                                          intercept_scaling=1, l1_ratio=None,\n",
       "                                          max_iter=100, multi_class='warn',\n",
       "                                          n_jobs=None, penalty='l2',\n",
       "                                          random_state=None, solver='warn',\n",
       "                                          tol=0.0001, verbose=0,\n",
       "                                          warm_start=False),\n",
       "             iid='warn', n_jobs=4,\n",
       "             param_grid={'solver': ['newton-cg', 'lbfgs', 'liblinear', 'sag']},\n",
       "             pre_dispatch='2*n_jobs', refit=True, return_train_score=False,\n",
       "             scoring=None, verbose=2)"
      ]
     },
     "execution_count": 264,
     "metadata": {},
     "output_type": "execute_result"
    }
   ],
   "source": [
    "grid_search.fit(X_train,y_train)"
   ]
  },
  {
   "cell_type": "code",
   "execution_count": 255,
   "metadata": {},
   "outputs": [
    {
     "data": {
      "text/plain": [
       "0.8833448514167243"
      ]
     },
     "execution_count": 255,
     "metadata": {},
     "output_type": "execute_result"
    }
   ],
   "source": [
    "grid_search.best_score_"
   ]
  },
  {
   "cell_type": "code",
   "execution_count": 247,
   "metadata": {},
   "outputs": [
    {
     "data": {
      "text/plain": [
       "{'solver': 'liblinear'}"
      ]
     },
     "execution_count": 247,
     "metadata": {},
     "output_type": "execute_result"
    }
   ],
   "source": [
    "grid_search.best_params_"
   ]
  },
  {
   "cell_type": "code",
   "execution_count": 165,
   "metadata": {
    "scrolled": true
   },
   "outputs": [
    {
     "name": "stderr",
     "output_type": "stream",
     "text": [
      "e:\\py355\\lib\\site-packages\\sklearn\\linear_model\\logistic.py:432: FutureWarning: Default solver will be changed to 'lbfgs' in 0.22. Specify a solver to silence this warning.\n",
      "  FutureWarning)\n"
     ]
    },
    {
     "data": {
      "image/png": "[encoded data removed]",
      "text/plain": [
       "<Figure size 432x288 with 1 Axes>"
      ]
     },
     "metadata": {
      "needs_background": "light"
     },
     "output_type": "display_data"
    }
   ],
   "source": [
    "#100次交叉验证\n",
    "nul = 100\n",
    "scores = cross_val_score(lr_clf, x, y, cv=nul)\n",
    "plt.plot(range(nul), scores)\n",
    "plt.show()"
   ]
  },
  {
   "cell_type": "code",
   "execution_count": 175,
   "metadata": {},
   "outputs": [
    {
     "name": "stderr",
     "output_type": "stream",
     "text": [
      "e:\\py355\\lib\\site-packages\\sklearn\\linear_model\\logistic.py:432: FutureWarning: Default solver will be changed to 'lbfgs' in 0.22. Specify a solver to silence this warning.\n",
      "  FutureWarning)\n"
     ]
    }
   ],
   "source": [
    "#cr_pre = cross_val_predict(lr_clf, x, y, cv=nul)"
   ]
  },
  {
   "cell_type": "code",
   "execution_count": 439,
   "metadata": {},
   "outputs": [
    {
     "data": {
      "text/plain": [
       "0.8830845771144279"
      ]
     },
     "execution_count": 439,
     "metadata": {},
     "output_type": "execute_result"
    }
   ],
   "source": [
    "lr_pred = lr_clf.predict(X_test)\n",
    "# 测试集精确度\n",
    "accuracy_score(y_test, lr_pred)"
   ]
  },
  {
   "cell_type": "code",
   "execution_count": 448,
   "metadata": {},
   "outputs": [],
   "source": [
    "#fpr,\n",
    "fpr, tpr, thresholds = metrics.roc_curve(y_test, lr_pred, pos_label=1)\n",
    "precision, recall, threshold = precision_recall_curve(y_test, lr_pred)#精确度，召回率，阈值"
   ]
  },
  {
   "cell_type": "code",
   "execution_count": 460,
   "metadata": {},
   "outputs": [
    {
     "data": {
      "image/png": "[encoded data removed]",
      "text/plain": [
       "<Figure size 432x288 with 1 Axes>"
      ]
     },
     "metadata": {
      "needs_background": "light"
     },
     "output_type": "display_data"
    }
   ],
   "source": [
    "plt.figure()\n",
    "lw = 2\n",
    "plt.plot(fpr, tpr, color='darkorange',lw=lw, label='ROC curve (area = %0.2f)' % accuracy_score(y_test, lr_pred))\n",
    "plt.plot([0, 1], [0, 1], color='navy', lw=lw, linestyle=':')\n",
    "plt.xlim([0.0, 1.0])\n",
    "plt.ylim([0.0, 1.05])\n",
    "plt.xlabel('False Positive Rate')\n",
    "plt.ylabel('True Positive Rate')\n",
    "plt.title('LR Receiver operating characteristic')\n",
    "plt.legend(loc=\"lower right\")\n",
    "plt.show()"
   ]
  },
  {
   "cell_type": "code",
   "execution_count": 452,
   "metadata": {},
   "outputs": [
    {
     "data": {
      "text/plain": [
       "0.8693424423569598"
      ]
     },
     "execution_count": 452,
     "metadata": {},
     "output_type": "execute_result"
    }
   ],
   "source": [
    "#f1score\n",
    "metrics.f1_score(y_test, svm_pred)#发 score"
   ]
  },
  {
   "cell_type": "code",
   "execution_count": 453,
   "metadata": {},
   "outputs": [
    {
     "data": {
      "text/plain": [
       "0.8616666666666667"
      ]
     },
     "execution_count": 453,
     "metadata": {},
     "output_type": "execute_result"
    }
   ],
   "source": [
    "#precision_scor\n",
    "metrics.precision_score(y_test, bayes_pred)"
   ]
  },
  {
   "cell_type": "code",
   "execution_count": 454,
   "metadata": {},
   "outputs": [
    {
     "data": {
      "text/plain": [
       "0.8475409836065574"
      ]
     },
     "execution_count": 454,
     "metadata": {},
     "output_type": "execute_result"
    }
   ],
   "source": [
    "#recall_score\n",
    "metrics.recall_score(y_test, bayes_pred)"
   ]
  },
  {
   "cell_type": "code",
   "execution_count": 455,
   "metadata": {},
   "outputs": [
    {
     "data": {
      "text/plain": [
       "0.9190421562020212"
      ]
     },
     "execution_count": 455,
     "metadata": {},
     "output_type": "execute_result"
    }
   ],
   "source": [
    "#auc\n",
    "metrics.auc(recall, precision)# auc面积 "
   ]
  },
  {
   "cell_type": "code",
   "execution_count": null,
   "metadata": {},
   "outputs": [],
   "source": []
  },
  {
   "cell_type": "markdown",
   "metadata": {},
   "source": [
    "# 数据预测"
   ]
  },
  {
   "cell_type": "code",
   "execution_count": 84,
   "metadata": {},
   "outputs": [],
   "source": [
    "df_prediect =  pd.read_excel('总数据.xlsx')"
   ]
  },
  {
   "cell_type": "code",
   "execution_count": 107,
   "metadata": {},
   "outputs": [],
   "source": [
    "x_predsource = df_prediect.评论内容.astype(str).values"
   ]
  },
  {
   "cell_type": "code",
   "execution_count": 112,
   "metadata": {},
   "outputs": [],
   "source": [
    "pre_list = []\n",
    "for jj in x_predsource:     \n",
    "    pre_content = ' '.join([str(word) for word in jieba.cut(jj) if word not in stopword])\n",
    "    pre_list.append(pre_content)"
   ]
  },
  {
   "cell_type": "code",
   "execution_count": 141,
   "metadata": {},
   "outputs": [],
   "source": [
    "pre_count=counter.transform(pre_list)\n",
    "pre_tf_idf = tfidfer.transform(pre_count)"
   ]
  },
  {
   "cell_type": "code",
   "execution_count": 144,
   "metadata": {},
   "outputs": [
    {
     "data": {
      "text/plain": [
       "(246926, 13484)"
      ]
     },
     "execution_count": 144,
     "metadata": {},
     "output_type": "execute_result"
    }
   ],
   "source": [
    "pre_tf_idf.shape"
   ]
  },
  {
   "cell_type": "markdown",
   "metadata": {},
   "source": [
    "# 贝叶斯预测"
   ]
  },
  {
   "cell_type": "code",
   "execution_count": 119,
   "metadata": {
    "scrolled": true
   },
   "outputs": [],
   "source": [
    "bayes = bayes_clf.predict(pre_tf_idf)"
   ]
  },
  {
   "cell_type": "code",
   "execution_count": null,
   "metadata": {},
   "outputs": [],
   "source": [
    "df_prediect['bays'] = bayl"
   ]
  },
  {
   "cell_type": "code",
   "execution_count": 266,
   "metadata": {},
   "outputs": [],
   "source": [
    "proba =bayes_clf.predict_proba(pre_tf_idf)"
   ]
  },
  {
   "cell_type": "code",
   "execution_count": 367,
   "metadata": {},
   "outputs": [],
   "source": [
    "df_prediect['bays_概率']=np.array(proba)[:,[-1]]"
   ]
  },
  {
   "cell_type": "code",
   "execution_count": 422,
   "metadata": {
    "collapsed": true
   },
   "outputs": [
    {
     "data": {
      "text/plain": [
       "['__abstractmethods__',\n",
       " '__class__',\n",
       " '__delattr__',\n",
       " '__dict__',\n",
       " '__dir__',\n",
       " '__doc__',\n",
       " '__eq__',\n",
       " '__format__',\n",
       " '__ge__',\n",
       " '__getattribute__',\n",
       " '__getstate__',\n",
       " '__gt__',\n",
       " '__hash__',\n",
       " '__init__',\n",
       " '__le__',\n",
       " '__lt__',\n",
       " '__module__',\n",
       " '__ne__',\n",
       " '__new__',\n",
       " '__reduce__',\n",
       " '__reduce_ex__',\n",
       " '__repr__',\n",
       " '__setattr__',\n",
       " '__setstate__',\n",
       " '__sizeof__',\n",
       " '__str__',\n",
       " '__subclasshook__',\n",
       " '__weakref__',\n",
       " '_abc_cache',\n",
       " '_abc_negative_cache',\n",
       " '_abc_negative_cache_version',\n",
       " '_abc_registry',\n",
       " '_check_alpha',\n",
       " '_count',\n",
       " '_estimator_type',\n",
       " '_get_coef',\n",
       " '_get_intercept',\n",
       " '_get_param_names',\n",
       " '_get_tags',\n",
       " '_joint_log_likelihood',\n",
       " '_more_tags',\n",
       " '_update_class_log_prior',\n",
       " '_update_feature_log_prob',\n",
       " 'alpha',\n",
       " 'class_count_',\n",
       " 'class_log_prior_',\n",
       " 'class_prior',\n",
       " 'classes_',\n",
       " 'coef_',\n",
       " 'feature_count_',\n",
       " 'feature_log_prob_',\n",
       " 'fit',\n",
       " 'fit_prior',\n",
       " 'get_params',\n",
       " 'intercept_',\n",
       " 'partial_fit',\n",
       " 'predict',\n",
       " 'predict_log_proba',\n",
       " 'predict_proba',\n",
       " 'score',\n",
       " 'set_params']"
      ]
     },
     "execution_count": 422,
     "metadata": {},
     "output_type": "execute_result"
    }
   ],
   "source": [
    "#查看预测类的函数\n",
    "dir(bayes_clf)"
   ]
  },
  {
   "cell_type": "code",
   "execution_count": 182,
   "metadata": {},
   "outputs": [
    {
     "data": {
      "text/plain": [
       "array([[3.18224244e-02, 9.68177576e-01],\n",
       "       [8.01540715e-02, 9.19845928e-01],\n",
       "       [2.62648201e-01, 7.37351799e-01],\n",
       "       ...,\n",
       "       [9.96601240e-01, 3.39875952e-03],\n",
       "       [9.99965228e-01, 3.47717091e-05],\n",
       "       [9.51626446e-01, 4.83735541e-02]])"
      ]
     },
     "execution_count": 182,
     "metadata": {},
     "output_type": "execute_result"
    }
   ],
   "source": [
    "#预测值的预测分数分布，前面是预测为0的概率，后面是预测为1的概率\n",
    "bayes_clf.predict_proba(pre_tf_idf)"
   ]
  },
  {
   "cell_type": "markdown",
   "metadata": {},
   "source": [
    "# SVM预测"
   ]
  },
  {
   "cell_type": "code",
   "execution_count": 407,
   "metadata": {},
   "outputs": [],
   "source": [
    "svm_pre = svm_clf.predict(pre_tf_idf)"
   ]
  },
  {
   "cell_type": "code",
   "execution_count": 405,
   "metadata": {},
   "outputs": [],
   "source": [
    "df_prediect['svm_pre'] = svm_pre"
   ]
  },
  {
   "cell_type": "code",
   "execution_count": 415,
   "metadata": {},
   "outputs": [],
   "source": [
    "svm_proba =svm_clf.predict_proba(pre_tf_idf)"
   ]
  },
  {
   "cell_type": "code",
   "execution_count": 416,
   "metadata": {},
   "outputs": [],
   "source": [
    "df_prediect['svm_概率']=np.array(svm_proba)[:,[-1]]"
   ]
  },
  {
   "cell_type": "code",
   "execution_count": 423,
   "metadata": {},
   "outputs": [
    {
     "data": {
      "text/plain": [
       "array([[0.00428307, 0.99571693],\n",
       "       [0.04384434, 0.95615566],\n",
       "       [0.04615493, 0.95384507],\n",
       "       ...,\n",
       "       [0.84235062, 0.15764938],\n",
       "       [0.93230322, 0.06769678],\n",
       "       [0.73206217, 0.26793783]])"
      ]
     },
     "execution_count": 423,
     "metadata": {},
     "output_type": "execute_result"
    }
   ],
   "source": [
    "dir(svm_clf)\n",
    "svm_proba"
   ]
  },
  {
   "cell_type": "markdown",
   "metadata": {},
   "source": [
    "# LR预测"
   ]
  },
  {
   "cell_type": "code",
   "execution_count": 389,
   "metadata": {},
   "outputs": [],
   "source": [
    "lr_pre = lr_clf.predict(pre_tf_idf)"
   ]
  },
  {
   "cell_type": "code",
   "execution_count": 390,
   "metadata": {},
   "outputs": [],
   "source": [
    "df_prediect['lr_pre'] = lr_pre"
   ]
  },
  {
   "cell_type": "code",
   "execution_count": 393,
   "metadata": {},
   "outputs": [],
   "source": [
    "lr_proba =lr_clf.predict_proba(pre_tf_idf)\n",
    "df_prediect['lr_概率']=np.array(lr_proba)[:,[-1]]"
   ]
  },
  {
   "cell_type": "code",
   "execution_count": 421,
   "metadata": {},
   "outputs": [],
   "source": [
    "df_prediect.to_csv('总数据.csv',encoding='utf8')"
   ]
  },
  {
   "cell_type": "code",
   "execution_count": null,
   "metadata": {},
   "outputs": [],
   "source": []
  },
  {
   "cell_type": "code",
   "execution_count": 417,
   "metadata": {},
   "outputs": [
    {
     "data": {
      "text/html": [
       "<div>\n",
       "<style scoped>\n",
       "    .dataframe tbody tr th:only-of-type {\n",
       "        vertical-align: middle;\n",
       "    }\n",
       "\n",
       "    .dataframe tbody tr th {\n",
       "        vertical-align: top;\n",
       "    }\n",
       "\n",
       "    .dataframe thead th {\n",
       "        text-align: right;\n",
       "    }\n",
       "</style>\n",
       "<table border=\"1\" class=\"dataframe\">\n",
       "  <thead>\n",
       "    <tr style=\"text-align: right;\">\n",
       "      <th></th>\n",
       "      <th>序号</th>\n",
       "      <th>手机编号</th>\n",
       "      <th>评论得分</th>\n",
       "      <th>评论内容</th>\n",
       "      <th>文本长度</th>\n",
       "      <th>标注结果</th>\n",
       "      <th>bays</th>\n",
       "      <th>svm_pre</th>\n",
       "      <th>lr_pre</th>\n",
       "      <th>f</th>\n",
       "      <th>svm_f</th>\n",
       "      <th>lr_f</th>\n",
       "    </tr>\n",
       "  </thead>\n",
       "  <tbody>\n",
       "    <tr>\n",
       "      <th>0</th>\n",
       "      <td>1</td>\n",
       "      <td>2876449</td>\n",
       "      <td>5</td>\n",
       "      <td>给老爸买的 他非常喜欢 支持支持支持 下次还要买</td>\n",
       "      <td>24.0</td>\n",
       "      <td>NaN</td>\n",
       "      <td>1</td>\n",
       "      <td>1</td>\n",
       "      <td>1</td>\n",
       "      <td>0.968178</td>\n",
       "      <td>0.995717</td>\n",
       "      <td>0.963694</td>\n",
       "    </tr>\n",
       "    <tr>\n",
       "      <th>1</th>\n",
       "      <td>2</td>\n",
       "      <td>2876449</td>\n",
       "      <td>5</td>\n",
       "      <td>还可以运行什么的挺快的屏幕也舒服</td>\n",
       "      <td>16.0</td>\n",
       "      <td>NaN</td>\n",
       "      <td>1</td>\n",
       "      <td>1</td>\n",
       "      <td>1</td>\n",
       "      <td>0.919846</td>\n",
       "      <td>0.956156</td>\n",
       "      <td>0.825301</td>\n",
       "    </tr>\n",
       "    <tr>\n",
       "      <th>2</th>\n",
       "      <td>3</td>\n",
       "      <td>2876449</td>\n",
       "      <td>5</td>\n",
       "      <td>还不错，我帮别人买的，应该还好用吧</td>\n",
       "      <td>17.0</td>\n",
       "      <td>NaN</td>\n",
       "      <td>1</td>\n",
       "      <td>1</td>\n",
       "      <td>1</td>\n",
       "      <td>0.737352</td>\n",
       "      <td>0.953845</td>\n",
       "      <td>0.844668</td>\n",
       "    </tr>\n",
       "    <tr>\n",
       "      <th>3</th>\n",
       "      <td>4</td>\n",
       "      <td>2876449</td>\n",
       "      <td>5</td>\n",
       "      <td>物流是很快，就是不知道手机好不好用啊</td>\n",
       "      <td>18.0</td>\n",
       "      <td>NaN</td>\n",
       "      <td>1</td>\n",
       "      <td>1</td>\n",
       "      <td>1</td>\n",
       "      <td>0.727794</td>\n",
       "      <td>0.938133</td>\n",
       "      <td>0.854073</td>\n",
       "    </tr>\n",
       "    <tr>\n",
       "      <th>4</th>\n",
       "      <td>5</td>\n",
       "      <td>2876449</td>\n",
       "      <td>5</td>\n",
       "      <td>不错，感觉很好，暂时没发现什么缺点。</td>\n",
       "      <td>18.0</td>\n",
       "      <td>NaN</td>\n",
       "      <td>1</td>\n",
       "      <td>1</td>\n",
       "      <td>1</td>\n",
       "      <td>0.825040</td>\n",
       "      <td>0.999982</td>\n",
       "      <td>0.919260</td>\n",
       "    </tr>\n",
       "    <tr>\n",
       "      <th>5</th>\n",
       "      <td>6</td>\n",
       "      <td>2876449</td>\n",
       "      <td>5</td>\n",
       "      <td>感觉还不错，音质一般吧，不过真的很划算</td>\n",
       "      <td>19.0</td>\n",
       "      <td>NaN</td>\n",
       "      <td>1</td>\n",
       "      <td>1</td>\n",
       "      <td>1</td>\n",
       "      <td>0.965146</td>\n",
       "      <td>0.996982</td>\n",
       "      <td>0.966204</td>\n",
       "    </tr>\n",
       "    <tr>\n",
       "      <th>6</th>\n",
       "      <td>7</td>\n",
       "      <td>2876449</td>\n",
       "      <td>5</td>\n",
       "      <td>很好看很好用</td>\n",
       "      <td>6.0</td>\n",
       "      <td>NaN</td>\n",
       "      <td>1</td>\n",
       "      <td>1</td>\n",
       "      <td>1</td>\n",
       "      <td>0.900043</td>\n",
       "      <td>0.993885</td>\n",
       "      <td>0.910745</td>\n",
       "    </tr>\n",
       "    <tr>\n",
       "      <th>7</th>\n",
       "      <td>8</td>\n",
       "      <td>2876449</td>\n",
       "      <td>5</td>\n",
       "      <td>手机用着还可以，很值</td>\n",
       "      <td>10.0</td>\n",
       "      <td>NaN</td>\n",
       "      <td>1</td>\n",
       "      <td>1</td>\n",
       "      <td>0</td>\n",
       "      <td>0.999953</td>\n",
       "      <td>0.668955</td>\n",
       "      <td>0.436007</td>\n",
       "    </tr>\n",
       "    <tr>\n",
       "      <th>8</th>\n",
       "      <td>9</td>\n",
       "      <td>2876449</td>\n",
       "      <td>5</td>\n",
       "      <td>非常不错的一款手机</td>\n",
       "      <td>9.0</td>\n",
       "      <td>NaN</td>\n",
       "      <td>1</td>\n",
       "      <td>1</td>\n",
       "      <td>1</td>\n",
       "      <td>0.947978</td>\n",
       "      <td>0.999987</td>\n",
       "      <td>0.963934</td>\n",
       "    </tr>\n",
       "    <tr>\n",
       "      <th>9</th>\n",
       "      <td>10</td>\n",
       "      <td>2876449</td>\n",
       "      <td>5</td>\n",
       "      <td>好悲剧啊，贴膜失败，手机蛮好的。一是发货快，二是货源还算充足，三是自己呆了，买了套装，就裸机...</td>\n",
       "      <td>101.0</td>\n",
       "      <td>NaN</td>\n",
       "      <td>0</td>\n",
       "      <td>1</td>\n",
       "      <td>1</td>\n",
       "      <td>0.002030</td>\n",
       "      <td>0.672159</td>\n",
       "      <td>0.696147</td>\n",
       "    </tr>\n",
       "    <tr>\n",
       "      <th>10</th>\n",
       "      <td>11</td>\n",
       "      <td>2876449</td>\n",
       "      <td>5</td>\n",
       "      <td>5.13早上9:30手机京东抢到了，5.11早上11:02京东快递送到手！手机不错，运行流畅...</td>\n",
       "      <td>118.0</td>\n",
       "      <td>NaN</td>\n",
       "      <td>1</td>\n",
       "      <td>1</td>\n",
       "      <td>1</td>\n",
       "      <td>0.948895</td>\n",
       "      <td>0.978833</td>\n",
       "      <td>0.928002</td>\n",
       "    </tr>\n",
       "    <tr>\n",
       "      <th>11</th>\n",
       "      <td>12</td>\n",
       "      <td>2876449</td>\n",
       "      <td>5</td>\n",
       "      <td>昨日下单，今日中午就收到，发货与送货速度非常满意。机器收到后超过原想象，附带了发票、5.5寸...</td>\n",
       "      <td>299.0</td>\n",
       "      <td>NaN</td>\n",
       "      <td>1</td>\n",
       "      <td>1</td>\n",
       "      <td>1</td>\n",
       "      <td>0.963043</td>\n",
       "      <td>0.863042</td>\n",
       "      <td>0.780620</td>\n",
       "    </tr>\n",
       "    <tr>\n",
       "      <th>12</th>\n",
       "      <td>13</td>\n",
       "      <td>2876449</td>\n",
       "      <td>5</td>\n",
       "      <td>京东自营一直送货特快，感谢京东快递哥，不足千元手机的材质没办法和千元以上的比，感觉轻些，卡槽...</td>\n",
       "      <td>260.0</td>\n",
       "      <td>NaN</td>\n",
       "      <td>1</td>\n",
       "      <td>1</td>\n",
       "      <td>1</td>\n",
       "      <td>0.764529</td>\n",
       "      <td>0.804825</td>\n",
       "      <td>0.733599</td>\n",
       "    </tr>\n",
       "    <tr>\n",
       "      <th>13</th>\n",
       "      <td>14</td>\n",
       "      <td>2876449</td>\n",
       "      <td>5</td>\n",
       "      <td>已经帮朋友和家人买了几部了，物超所值了</td>\n",
       "      <td>19.0</td>\n",
       "      <td>NaN</td>\n",
       "      <td>1</td>\n",
       "      <td>1</td>\n",
       "      <td>1</td>\n",
       "      <td>0.999785</td>\n",
       "      <td>0.857914</td>\n",
       "      <td>0.747351</td>\n",
       "    </tr>\n",
       "    <tr>\n",
       "      <th>14</th>\n",
       "      <td>15</td>\n",
       "      <td>2876449</td>\n",
       "      <td>5</td>\n",
       "      <td>太快了，儿子挺喜欢的，就是遗憾没有贴膜，，</td>\n",
       "      <td>21.0</td>\n",
       "      <td>NaN</td>\n",
       "      <td>1</td>\n",
       "      <td>1</td>\n",
       "      <td>1</td>\n",
       "      <td>0.834720</td>\n",
       "      <td>0.817691</td>\n",
       "      <td>0.749333</td>\n",
       "    </tr>\n",
       "    <tr>\n",
       "      <th>15</th>\n",
       "      <td>16</td>\n",
       "      <td>2876449</td>\n",
       "      <td>5</td>\n",
       "      <td>收到手机用了，还可以</td>\n",
       "      <td>10.0</td>\n",
       "      <td>NaN</td>\n",
       "      <td>1</td>\n",
       "      <td>1</td>\n",
       "      <td>1</td>\n",
       "      <td>0.680097</td>\n",
       "      <td>0.832939</td>\n",
       "      <td>0.619495</td>\n",
       "    </tr>\n",
       "    <tr>\n",
       "      <th>16</th>\n",
       "      <td>17</td>\n",
       "      <td>2876449</td>\n",
       "      <td>5</td>\n",
       "      <td>正品</td>\n",
       "      <td>2.0</td>\n",
       "      <td>NaN</td>\n",
       "      <td>1</td>\n",
       "      <td>1</td>\n",
       "      <td>1</td>\n",
       "      <td>0.925870</td>\n",
       "      <td>0.988571</td>\n",
       "      <td>0.847621</td>\n",
       "    </tr>\n",
       "    <tr>\n",
       "      <th>17</th>\n",
       "      <td>18</td>\n",
       "      <td>2876449</td>\n",
       "      <td>5</td>\n",
       "      <td>速度快，使用感觉不错，不错！</td>\n",
       "      <td>14.0</td>\n",
       "      <td>NaN</td>\n",
       "      <td>1</td>\n",
       "      <td>1</td>\n",
       "      <td>1</td>\n",
       "      <td>0.939150</td>\n",
       "      <td>1.000000</td>\n",
       "      <td>0.997488</td>\n",
       "    </tr>\n",
       "    <tr>\n",
       "      <th>18</th>\n",
       "      <td>19</td>\n",
       "      <td>2876449</td>\n",
       "      <td>5</td>\n",
       "      <td>360还是不错的</td>\n",
       "      <td>8.0</td>\n",
       "      <td>NaN</td>\n",
       "      <td>1</td>\n",
       "      <td>1</td>\n",
       "      <td>1</td>\n",
       "      <td>0.765903</td>\n",
       "      <td>0.977812</td>\n",
       "      <td>0.912819</td>\n",
       "    </tr>\n",
       "    <tr>\n",
       "      <th>19</th>\n",
       "      <td>20</td>\n",
       "      <td>2876449</td>\n",
       "      <td>5</td>\n",
       "      <td>手机很不错，质量很好，是一次愉快的购物。</td>\n",
       "      <td>20.0</td>\n",
       "      <td>NaN</td>\n",
       "      <td>1</td>\n",
       "      <td>1</td>\n",
       "      <td>1</td>\n",
       "      <td>0.766617</td>\n",
       "      <td>0.970808</td>\n",
       "      <td>0.892047</td>\n",
       "    </tr>\n",
       "  </tbody>\n",
       "</table>\n",
       "</div>"
      ],
      "text/plain": [
       "    序号     手机编号  评论得分                                               评论内容  \\\n",
       "0    1  2876449     5                           给老爸买的 他非常喜欢 支持支持支持 下次还要买   \n",
       "1    2  2876449     5                                   还可以运行什么的挺快的屏幕也舒服   \n",
       "2    3  2876449     5                                  还不错，我帮别人买的，应该还好用吧   \n",
       "3    4  2876449     5                                 物流是很快，就是不知道手机好不好用啊   \n",
       "4    5  2876449     5                                 不错，感觉很好，暂时没发现什么缺点。   \n",
       "5    6  2876449     5                                感觉还不错，音质一般吧，不过真的很划算   \n",
       "6    7  2876449     5                                             很好看很好用   \n",
       "7    8  2876449     5                                         手机用着还可以，很值   \n",
       "8    9  2876449     5                                          非常不错的一款手机   \n",
       "9   10  2876449     5  好悲剧啊，贴膜失败，手机蛮好的。一是发货快，二是货源还算充足，三是自己呆了，买了套装，就裸机...   \n",
       "10  11  2876449     5  5.13早上9:30手机京东抢到了，5.11早上11:02京东快递送到手！手机不错，运行流畅...   \n",
       "11  12  2876449     5  昨日下单，今日中午就收到，发货与送货速度非常满意。机器收到后超过原想象，附带了发票、5.5寸...   \n",
       "12  13  2876449     5  京东自营一直送货特快，感谢京东快递哥，不足千元手机的材质没办法和千元以上的比，感觉轻些，卡槽...   \n",
       "13  14  2876449     5                                已经帮朋友和家人买了几部了，物超所值了   \n",
       "14  15  2876449     5                              太快了，儿子挺喜欢的，就是遗憾没有贴膜，，   \n",
       "15  16  2876449     5                                         收到手机用了，还可以   \n",
       "16  17  2876449     5                                                 正品   \n",
       "17  18  2876449     5                                     速度快，使用感觉不错，不错！   \n",
       "18  19  2876449     5                                           360还是不错的   \n",
       "19  20  2876449     5                               手机很不错，质量很好，是一次愉快的购物。   \n",
       "\n",
       "     文本长度  标注结果  bays  svm_pre  lr_pre         f     svm_f      lr_f  \n",
       "0    24.0   NaN     1        1       1  0.968178  0.995717  0.963694  \n",
       "1    16.0   NaN     1        1       1  0.919846  0.956156  0.825301  \n",
       "2    17.0   NaN     1        1       1  0.737352  0.953845  0.844668  \n",
       "3    18.0   NaN     1        1       1  0.727794  0.938133  0.854073  \n",
       "4    18.0   NaN     1        1       1  0.825040  0.999982  0.919260  \n",
       "5    19.0   NaN     1        1       1  0.965146  0.996982  0.966204  \n",
       "6     6.0   NaN     1        1       1  0.900043  0.993885  0.910745  \n",
       "7    10.0   NaN     1        1       0  0.999953  0.668955  0.436007  \n",
       "8     9.0   NaN     1        1       1  0.947978  0.999987  0.963934  \n",
       "9   101.0   NaN     0        1       1  0.002030  0.672159  0.696147  \n",
       "10  118.0   NaN     1        1       1  0.948895  0.978833  0.928002  \n",
       "11  299.0   NaN     1        1       1  0.963043  0.863042  0.780620  \n",
       "12  260.0   NaN     1        1       1  0.764529  0.804825  0.733599  \n",
       "13   19.0   NaN     1        1       1  0.999785  0.857914  0.747351  \n",
       "14   21.0   NaN     1        1       1  0.834720  0.817691  0.749333  \n",
       "15   10.0   NaN     1        1       1  0.680097  0.832939  0.619495  \n",
       "16    2.0   NaN     1        1       1  0.925870  0.988571  0.847621  \n",
       "17   14.0   NaN     1        1       1  0.939150  1.000000  0.997488  \n",
       "18    8.0   NaN     1        1       1  0.765903  0.977812  0.912819  \n",
       "19   20.0   NaN     1        1       1  0.766617  0.970808  0.892047  "
      ]
     },
     "execution_count": 417,
     "metadata": {},
     "output_type": "execute_result"
    }
   ],
   "source": [
    "df_prediect.head(20)"
   ]
  },
  {
   "cell_type": "code",
   "execution_count": 462,
   "metadata": {},
   "outputs": [
    {
     "data": {
      "text/plain": [
       "SVC(C=1.0, cache_size=200, class_weight=None, coef0=0.0,\n",
       "    decision_function_shape='ovr', degree=3, gamma=2, kernel='rbf', max_iter=-1,\n",
       "    probability=True, random_state=None, shrinking=True, tol=0.001,\n",
       "    verbose=False)"
      ]
     },
     "execution_count": 462,
     "metadata": {},
     "output_type": "execute_result"
    }
   ],
   "source": [
    "svm_clf"
   ]
  },
  {
   "cell_type": "code",
   "execution_count": null,
   "metadata": {},
   "outputs": [],
   "source": []
  }
 ],
 "metadata": {
  "kernelspec": {
   "display_name": "Python 3",
   "language": "python",
   "name": "python3"
  },
  "language_info": {
   "codemirror_mode": {
    "name": "ipython",
    "version": 3
   },
   "file_extension": ".py",
   "mimetype": "text/x-python",
   "name": "python",
   "nbconvert_exporter": "python",
   "pygments_lexer": "ipython3",
   "version": "3.5.4"
  }
 },
 "nbformat": 4,
 "nbformat_minor": 2
}
